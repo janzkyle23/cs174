{
 "cells": [
  {
   "cell_type": "markdown",
   "metadata": {},
   "source": [
    "# Problem Set 1 CS174\n",
    "---\n",
    "The following problem set will focus on the lessons on Python and basic string manipulation. Answer the following guide questions by writing functions or code in cells that accomplish the requirements.\n",
    "\n",
    "1. Write a function to check whether a string is a palindrome. (A palindrome is a string that reads the same forwards and backwards) **1 pt.**\n",
    "\n",
    "2. Write a function that checks whether a number is prime or not **1 pt.**\n",
    "\n",
    "3. Load `data/allstar.txt` and create a dictionary where the keys are the verses or chorus numbers, and the values are the chords for that part of the song. **4 pts.**\n",
    "`{ \"verse1\": \"Am, C, D, G, F, G, G, Bm\", \"chorus1\": \"C, Am, G, D, C, Am, G, D, C\"..}`\n",
    "\n",
    "4. Build a dictionary from `data/allstar.txt` where the keys are the unique words, and the values are the number of times the word appeared in the song. **4 pts.**\n",
    "\n",
    "5. Load `Rick Astley - Never Gonna Give You Up Lyrics _ AZLyrics.com.html` and find out the ff (show the code): **10 pts.**\n",
    "       - How many unique words are there?\n",
    "       - List what will Rick Astley never do?\n",
    "       - Write a function that lists all the unique words and counts the num of occurences. Output the result as a dictionary similar to **Item 4.**\n",
    "       - Use the dictionary from above to create a word count histogram.\n",
    "       \n",
    "### Bonus:\n",
    "Compare any non-English song (as long as lyrics are Romanized ) and a contemporary one in English, and create word frequency histograms of both. Compare and discuss any interesting findings or insights. **5 pts.**"
   ]
  },
  {
   "cell_type": "markdown",
   "metadata": {},
   "source": [
    "Deadline **Feb 4 11:59PM**. Submission link to be posted in Moodle. \n",
    "Submit the .ipynb file only with name <SURNAME>_<ID NUMBER>.ipynb. \n",
    "    \n",
    "Sample: **\"BAUTISTA_110464.ipynb\"**"
   ]
  },
  {
   "cell_type": "markdown",
   "metadata": {},
   "source": [
    "# 1"
   ]
  },
  {
   "cell_type": "code",
   "execution_count": 1,
   "metadata": {},
   "outputs": [
    {
     "name": "stdout",
     "output_type": "stream",
     "text": [
      "True\n"
     ]
    }
   ],
   "source": [
    "def isPalindrome(string):\n",
    "    return string == string[::-1]\n",
    "\n",
    "print(isPalindrome(\"bro orb\"))"
   ]
  },
  {
   "cell_type": "markdown",
   "metadata": {},
   "source": [
    "# 2"
   ]
  },
  {
   "cell_type": "code",
   "execution_count": 2,
   "metadata": {},
   "outputs": [],
   "source": [
    "def isPrime(num):\n",
    "    if num < 2 or isinstance(num, float):\n",
    "        return None\n",
    "    elif num == 2:\n",
    "        return True\n",
    "    elif num % 2 == 0 or num % 3 == 0:\n",
    "        return False\n",
    "    \n",
    "    i = 5\n",
    "    while i**2 <= num:\n",
    "        if num % i == 0 or num % (i+2) == 0:\n",
    "            return False\n",
    "        i += 6\n",
    "\n",
    "    return True"
   ]
  },
  {
   "cell_type": "markdown",
   "metadata": {},
   "source": [
    "# 3"
   ]
  },
  {
   "cell_type": "code",
   "execution_count": 3,
   "metadata": {},
   "outputs": [
    {
     "name": "stdout",
     "output_type": "stream",
     "text": [
      "{'Verse 1': 'G, D, Am, C, G, D, Am, C, G, D, Am, C, G, D, Am, C, G, D, Am, C, G, D, Am, C, G, D, Am, C, G, D, Am, C', 'Chorus 1': 'G, C, C#m, C, G, C, C#m, C, G, C, C#m, C, G, F, C', 'Verse 2': 'G, D, Am, C, G, D, Am, C, G, D, Am, C, G, D, Am, C', 'Chorus 2': 'G, C, C#m, C, G, C, C#m, C, G, C, C#m, C, G, F, C, G, C, C#m, C, G, C, C#m, C, G, C, C#m, C, G, F, C', 'Verse 3': 'G, D, Am, C, G, D, Am, C, G, D, Am, C, G, D, Am, C, G, D, Am, C, G, D, Am, C, G, D, Am, C, G, D, Am, C', 'Chorus 3': 'G, C, C#m, C, G, C, C#m, C, G, C, C#m, C, G, F, C'}\n"
     ]
    }
   ],
   "source": [
    "import re\n",
    "\n",
    "dic = {}\n",
    "with open(\"./data/allstar.txt\") as f:\n",
    "    chords = \"\"\n",
    "    key = \"\"\n",
    "\n",
    "    for line in f:\n",
    "        if line[0] == \"[\":\n",
    "            if chords:\n",
    "                dic[key] = chords[:-2]\n",
    "                chords = \"\"\n",
    "            key = line[1:-2]\n",
    "        # I made double consecutive spaces as basis if the line contains chords lol\n",
    "        elif \"  \" in line:\n",
    "            # replace consecutive white spaces with single comma\n",
    "            chordsStr = re.sub(\"\\s+\", \", \", line.strip())\n",
    "            chords += chordsStr + \", \"\n",
    "\n",
    "    dic[key] = chords[:-2]\n",
    "    \n",
    "print(dic)"
   ]
  },
  {
   "cell_type": "markdown",
   "metadata": {},
   "source": [
    "# 4"
   ]
  },
  {
   "cell_type": "code",
   "execution_count": 4,
   "metadata": {},
   "outputs": [
    {
     "name": "stdout",
     "output_type": "stream",
     "text": [
      "{'somebody': 2, 'once': 2, 'told': 1, 'me': 2, 'the': 26, 'world': 1, 'is': 6, 'gonna': 1, 'roll': 1, 'i': 8, \"ain't\": 1, 'sharpest': 1, 'tool': 1, 'in': 3, 'shed': 1, 'she': 1, 'was': 1, 'looking': 1, 'kinda': 1, 'dumb': 3, 'with': 3, 'her': 3, 'finger': 1, 'and': 12, 'thumb': 1, 'shape': 1, 'of': 1, 'an': 5, '\"l\"': 1, 'on': 6, 'forehead': 1, '': 10, 'well': 3, 'years': 2, 'start': 2, 'coming': 4, 'they': 3, \"don't\": 6, 'stop': 2, 'back': 4, 'to': 10, 'rules': 2, 'hit': 2, 'ground': 2, 'running': 2, \"didn't\": 2, 'make': 2, 'sense': 2, 'not': 2, 'live': 2, 'for': 3, 'fun': 2, 'your': 8, 'brain': 2, 'gets': 5, 'smart': 2, 'but': 4, 'head': 2, 'so': 7, 'much': 4, 'do': 2, 'see': 2, \"what's\": 2, 'wrong': 2, 'taking': 2, 'streets': 2, \"you'll\": 4, 'never': 5, 'know': 2, 'if': 4, 'you': 7, 'go': 6, 'shine': 2, 'glow': 2, 'hey': 8, 'now': 9, \"you're\": 9, 'all': 9, 'star': 8, 'get': 15, 'game': 4, 'on,': 4, 'play': 4, 'a': 8, 'rock': 4, 'show': 4, 'paid': 4, 'that': 4, 'glitters': 4, 'gold': 4, 'only': 4, 'shooting': 4, 'stars': 4, 'break': 4, 'mold': 4, \"it's\": 1, 'cool': 1, 'place': 2, 'say': 1, 'it': 2, 'colder': 1, 'bundled': 1, 'up': 1, 'wait': 1, \"'til\": 1, 'older': 1, 'media': 1, 'men': 1, 'beg': 1, 'differ': 1, 'judging': 1, 'by': 1, 'hole': 1, 'satellite': 1, 'picture': 1, 'ice': 1, 'we': 2, 'skate': 1, 'getting': 2, 'pretty': 1, 'thin': 1, 'waters': 1, 'warm': 1, 'might': 1, 'as': 1, 'swim': 1, 'my': 1, \"world's\": 1, 'fire': 1, 'how': 1, 'about': 1, 'yours': 1, \"that's\": 1, 'way': 1, 'like': 1, 'bored': 1, 'asked,': 1, 'could': 3, 'spare': 1, 'some': 1, 'change': 2, 'gas': 1, 'need': 1, 'myself': 2, 'away': 1, 'from': 1, 'this': 1, 'said': 1, 'yep': 1, 'what': 1, 'concept': 1, 'use': 2, 'little': 2, 'fuel': 1}\n"
     ]
    }
   ],
   "source": [
    "dic = {}\n",
    "with open(\"./data/allstar.txt\") as f:\n",
    "    for line in f:\n",
    "        if \"  \" not in line and line[0] is not \"[\":\n",
    "            chordsStr = re.sub(\"\\s+\", \", \", line.strip()).lower()\n",
    "            for string in chordsStr.split(\", \"):\n",
    "                if string in dic.keys():\n",
    "                    dic[string] += 1\n",
    "                else:\n",
    "                    dic[string] = 1\n",
    "    \n",
    "print(dic)"
   ]
  },
  {
   "cell_type": "markdown",
   "metadata": {},
   "source": [
    "# 5 "
   ]
  },
  {
   "cell_type": "markdown",
   "metadata": {},
   "source": [
    "How many unique words are there?"
   ]
  },
  {
   "cell_type": "code",
   "execution_count": null,
   "metadata": {},
   "outputs": [
    {
     "name": "stdout",
     "output_type": "stream",
     "text": [
      "Number of unique words: 78\n"
     ]
    }
   ],
   "source": [
    "import codecs\n",
    "import matplotlib.pyplot as plt\n",
    "\n",
    "with codecs.open(\"./data/Rick Astley - Never Gonna Give You Up Lyrics _ AZLyrics.com.html\", 'r') as f:\n",
    "    content = f.readlines()\n",
    "    startIndex = [x for x in range(len(content)) if \"<!-- Usage of azlyrics.com content by any third-party lyrics provider is prohibited by our licensing agreement. Sorry about that. -->\" in content[x]][0] + 1\n",
    "    endIndex = [y for y in range(startIndex, len(content)) if \"</div>\" in content[y]][0]\n",
    "    uniqueWordsDict = {}\n",
    "    \n",
    "    for i in range(startIndex, endIndex): \n",
    "        wordList = content[i].lstrip().replace(\"<br>\", \"\").replace(\",\", \"\").replace(\"(\", \"\").replace(\")\", \"\").lower().split()\n",
    "\n",
    "        for word in wordList:\n",
    "            if word in uniqueWordsDict.keys():\n",
    "                uniqueWordsDict[word] += 1\n",
    "            else:\n",
    "                uniqueWordsDict[word] = 1\n",
    "\n",
    "    print(f\"Number of unique words: {len(uniqueWordsDict)}\")"
   ]
  },
  {
   "cell_type": "markdown",
   "metadata": {},
   "source": [
    "List what will Rick Astley never do?"
   ]
  },
  {
   "cell_type": "code",
   "execution_count": null,
   "metadata": {},
   "outputs": [
    {
     "name": "stdout",
     "output_type": "stream",
     "text": [
      "Never gonna do list:\n",
      "['give you up', 'let you down', 'run around and desert you', 'make you cry', 'say goodbye', 'tell a lie and hurt you']\n"
     ]
    }
   ],
   "source": [
    "    neverDoList = []\n",
    "    for i in range(startIndex, endIndex):\n",
    "        if content[i].lower().count(\"never gonna\") == 1:\n",
    "            action = content[i][12:].replace(\"<br>\", \"\").replace(\"\\n\", \"\")\n",
    "            if action not in neverDoList:\n",
    "                neverDoList.append(action)\n",
    "    print(f\"Never gonna do list:\\n{neverDoList}\")"
   ]
  },
  {
   "cell_type": "markdown",
   "metadata": {},
   "source": [
    "Write a function that lists all the unique words and counts the num of occurences. Output the result as a dictionary similar to **Item 4.**"
   ]
  },
  {
   "cell_type": "code",
   "execution_count": null,
   "metadata": {},
   "outputs": [
    {
     "name": "stdout",
     "output_type": "stream",
     "text": [
      "No. of occurences of each word:\n",
      "{\"we're\": 3, 'no': 1, 'strangers': 1, 'to': 4, 'love': 1, 'you': 41, 'know': 5, 'the': 3, 'rules': 1, 'and': 16, 'so': 3, 'do': 1, 'i': 3, 'a': 7, 'full': 1, \"commitment's\": 1, 'what': 1, \"i'm\": 4, 'thinking': 1, 'of': 1, \"wouldn't\": 1, 'get': 1, 'this': 1, 'from': 1, 'any': 1, 'other': 3, 'guy': 1, 'just': 2, 'wanna': 2, 'tell': 9, 'how': 3, 'feeling': 3, 'gotta': 2, 'make': 8, 'understand': 2, 'never': 40, 'gonna': 42, 'give': 14, 'up': 10, 'let': 6, 'down': 6, 'run': 6, 'around': 6, 'desert': 6, 'cry': 6, 'say': 8, 'goodbye': 6, 'lie': 6, 'hurt': 6, \"we've\": 2, 'known': 2, 'each': 2, 'for': 2, 'long': 2, 'your': 2, \"heart's\": 2, 'been': 4, 'aching': 2, 'but': 2, \"you're\": 3, 'too': 3, 'shy': 2, 'it': 4, 'inside': 2, 'we': 4, 'both': 2, \"what's\": 2, 'going': 2, 'on': 2, 'game': 2, 'play': 2, 'if': 1, 'ask': 1, 'me': 2, \"don't\": 1, 'blind': 1, 'see': 1, 'ooh': 2}\n"
     ]
    }
   ],
   "source": [
    "    print(f\"No. of occurences of each word:\\n{uniqueWordsDict}\")"
   ]
  },
  {
   "cell_type": "markdown",
   "metadata": {},
   "source": [
    "Use the dictionary from above to create a word count histogram."
   ]
  },
  {
   "cell_type": "code",
   "execution_count": null,
   "metadata": {},
   "outputs": [],
   "source": [
    "    plt.figure(figsize=(10, 15))\n",
    "    plt.title('Rick Astley - Never Gonna Give You Up: Lyrics Word Count')\n",
    "    plt.ylabel('Unique words')\n",
    "    plt.xlabel('No. of occurences')\n",
    "    plt.barh(list(uniqueWordsDict.keys()), list(uniqueWordsDict.values()))\n",
    "    plt.show()"
   ]
  },
  {
   "cell_type": "markdown",
   "metadata": {},
   "source": [
    "### Bonus:"
   ]
  },
  {
   "cell_type": "code",
   "execution_count": null,
   "metadata": {
    "scrolled": false
   },
   "outputs": [],
   "source": [
    "import urllib.request\n",
    "import matplotlib.pyplot as plt\n",
    "\n",
    "def getUniqueWordsDict(url, startLine, endLine):\n",
    "    with urllib.request.urlopen(url) as fp:\n",
    "        contentBytes = fp.readlines()\n",
    "\n",
    "        startIndex = [x for x in range(len(contentBytes)) if startLine in contentBytes[x].decode(\"utf8\")][0] + 1\n",
    "        endIndex = [y for y in range(startIndex, len(contentBytes)) if endLine in contentBytes[y].decode(\"utf8\")][0]\n",
    "        uniqueWordsDict = {}\n",
    "\n",
    "        for i in range(startIndex, endIndex): \n",
    "            line = contentBytes[i].decode(\"utf8\")\n",
    "            if line[0] == \"<\":\n",
    "                continue\n",
    "            wordList = line.lstrip().replace(\"<br>\", \"\").replace(\",\", \"\").replace(\"(\", \"\").replace(\")\", \"\").replace(\"?\", \"\").replace(\"-\", \" \").lower().split()\n",
    "\n",
    "            for word in wordList:\n",
    "                if word in uniqueWordsDict.keys():\n",
    "                    uniqueWordsDict[word] += 1\n",
    "                else:\n",
    "                    uniqueWordsDict[word] = 1\n",
    "        sortedUniqueWordsDict = {k: v for k, v in sorted(uniqueWordsDict.items(), key=lambda item: item[1])}\n",
    "        return sortedUniqueWordsDict\n",
    "\n",
    "def generateWordCountBar(title, data):\n",
    "    plt.figure(figsize=(10, 30))\n",
    "    plt.title(title)\n",
    "    plt.ylabel('Unique words')\n",
    "    plt.xlabel('No. of occurences')\n",
    "    plt.barh(list(data.keys()), list(data.values()))\n",
    "    plt.show()\n",
    "\n",
    "dict1 = getUniqueWordsDict(\"https://www.azlyrics.com/lyrics/jjproject/tomorrowtoday.html\", \n",
    "                         \"<i>[Romanized:]</i>\", \n",
    "                         \"<i>[Korean:]</i>\")\n",
    "generateWordCountBar(\"Tomorrow, Today by JJ Project:\", dict1)\n",
    "\n",
    "dict2 = getUniqueWordsDict(\"https://www.azlyrics.com/lyrics/postmalone/sunflower.html\", \n",
    "                         \"<!-- Usage of azlyrics.com content by any third-party lyrics provider is prohibited by our licensing agreement. Sorry about that. -->\", \n",
    "                         \"</div>\")\n",
    "generateWordCountBar(\"Sunflower by Post Malone\", dict2)"
   ]
  },
  {
   "cell_type": "markdown",
   "metadata": {},
   "source": [
    "Based on these 2 songs, the former has relatively more words used than the latter. And there are more words in the Korean song that only appeared once. In the former, the most frequently used words show what the song is about while the English song's frequently used words are pronouns and articles."
   ]
  }
 ],
 "metadata": {
  "kernelspec": {
   "display_name": "Python 3",
   "language": "python",
   "name": "python3"
  },
  "language_info": {
   "codemirror_mode": {
    "name": "ipython",
    "version": 3
   },
   "file_extension": ".py",
   "mimetype": "text/x-python",
   "name": "python",
   "nbconvert_exporter": "python",
   "pygments_lexer": "ipython3",
   "version": "3.7.1"
  }
 },
 "nbformat": 4,
 "nbformat_minor": 4
}
