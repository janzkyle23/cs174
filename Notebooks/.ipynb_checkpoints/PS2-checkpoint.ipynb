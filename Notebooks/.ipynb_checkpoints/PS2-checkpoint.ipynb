{
 "cells": [
  {
   "cell_type": "markdown",
   "metadata": {},
   "source": [
    "# Problem Set 2 CS174\n",
    "---\n",
    "The following problem set will focus on the lessons on Numpy and advanced Python functions. Answer the following guide questions by writing functions or code in cells that accomplish the requirements.\n",
    "\n",
    "1. Create a function that takes in 3 parameters (integer n, integer a, integer b), and generates an nxn numpy matrix with random values from the range a to b inclusive. **2 pts.**\n",
    "\n",
    "2. Present a count plot of the top 20 occurring words in **data/networks.txt**. Use the stopword file **data/stop.txt** to filter out the stopwords **2 pts.**\n",
    "\n",
    "3. Using **data/ateneo.txt** and **data/tl-en.txt**, convert the phrases into straight english phrases. Leave words with no translation be. **6 pts.**\n",
    "\n",
    "4. Using **data/tl-en.txt**, create a one-to-one English to Filipino translation of your favorite English song. Develop functions to handle pluralities, and multiple entry results. Discuss your code and please put at least 1-liner docs for the functions. **10 pts.**\n",
    "       \n",
    "### Bonus:\n",
    "Repeat #4 but do a Filipino to English translation of your favorite Filipno song. Same specs apply. **5 pts.**"
   ]
  },
  {
   "cell_type": "markdown",
   "metadata": {},
   "source": [
    "Deadline **Feb 20 11:59PM**. Submission link to be posted in Moodle. \n",
    "Submit the .ipynb file only with name <SURNAME>_<ID NUMBER>.ipynb. \n",
    "    \n",
    "Sample: **\"BAUTISTA_110464.ipynb\"**"
   ]
  },
  {
   "cell_type": "code",
   "execution_count": 10,
   "metadata": {},
   "outputs": [],
   "source": [
    "# libraries needed\n",
    "import re\n",
    "import nltk\n",
    "import numpy as np\n",
    "import matplotlib.pyplot as plt"
   ]
  },
  {
   "cell_type": "markdown",
   "metadata": {},
   "source": [
    "#1"
   ]
  },
  {
   "cell_type": "code",
   "execution_count": 11,
   "metadata": {},
   "outputs": [
    {
     "name": "stdout",
     "output_type": "stream",
     "text": [
      "[[4 5 3 2 3]\n",
      " [1 5 1 2 2]\n",
      " [5 2 5 3 2]\n",
      " [2 5 2 1 5]\n",
      " [3 5 4 4 5]]\n"
     ]
    }
   ],
   "source": [
    "def generateRandMatrix(n, a, b):\n",
    "    if a > b or n < 1 or not isinstance(n, int): return None \n",
    "    return np.random.randint(low=a, high=b+1, size=(n,n))\n",
    "\n",
    "print(generateRandMatrix(5,1,5))"
   ]
  },
  {
   "cell_type": "markdown",
   "metadata": {},
   "source": [
    "#2"
   ]
  },
  {
   "cell_type": "code",
   "execution_count": 12,
   "metadata": {},
   "outputs": [
    {
     "name": "stdout",
     "output_type": "stream",
     "text": [
      "{'to': 56, 'due': 8, 'computers': 8, 'going': 7, 'file': 7, 'problems': 7, 'never': 6, 'time': 6, 'you': 6, 'This': 6, 'companies': 6, 'system': 6, 'access': 6, 'files': 6, 'also': 6, 'one': 5, 'technology': 5, 'saved': 5, 'costs': 4, 'However': 4}\n"
     ]
    },
    {
     "data": {
      "image/png": "[encoded data removed]",
      "text/plain": [
       "<Figure size 720x720 with 1 Axes>"
      ]
     },
     "metadata": {
      "needs_background": "light"
     },
     "output_type": "display_data"
    }
   ],
   "source": [
    "#load networks.txt\n",
    "with open('./data/networks.txt', 'r') as f1:\n",
    "    network = f1.read()\n",
    "    txtList = network.replace(\".\", \"\").replace(\",\", \"\").split(\" \")\n",
    "#make word count dict of networks.txt\n",
    "    txtWordCount = {}\n",
    "    for txt in txtList:\n",
    "        if txt not in txtWordCount.keys():\n",
    "            txtWordCount[txt] = 1\n",
    "        else:\n",
    "            txtWordCount[txt] += 1\n",
    "\n",
    "#order dict by value\n",
    "    topWordCount = [k for k, v in sorted(txtWordCount.items(), key=lambda item: item[1], reverse=True)]\n",
    "#load stop.txt\n",
    "    with open('./data/stop.txt', 'r') as f2:\n",
    "        stopWords = [line.strip()[1:-2] for line in f2]\n",
    "        \n",
    "        top20Words = {}\n",
    "        i = 0\n",
    "        while len(top20Words) < 20:\n",
    "            currWord = topWordCount[i]\n",
    "            if currWord not in stopWords:\n",
    "                top20Words[currWord] = txtWordCount[currWord]\n",
    "            i += 1\n",
    "            \n",
    "        print(top20Words)\n",
    "        \n",
    "        plt.figure(figsize=(10, 10))\n",
    "        plt.title(\"Count Plot\")\n",
    "        plt.ylabel('Unique words')\n",
    "        plt.xlabel('No. of occurences')\n",
    "        plt.barh(list(top20Words.keys()), list(top20Words.values()))\n",
    "        plt.show()\n",
    "#append top 20 to new dict while checking if it's in stop.txt\n",
    "        "
   ]
  },
  {
   "cell_type": "markdown",
   "metadata": {},
   "source": [
    "#3"
   ]
  },
  {
   "cell_type": "code",
   "execution_count": 13,
   "metadata": {},
   "outputs": [
    {
     "name": "stdout",
     "output_type": "stream",
     "text": [
      "[['Manong', 'para', 'lang', 'dyan', 'sa', 'may', 'side'], ['Mej', 'hassle', 'naman', 'this', 'rain'], ['Ano', 'bro', 'Katip', 'later', 'G'], ['Wait', 'Im', 'like', 'gonna', 'dinner', 'lang', 'with', 'the', 'fambam'], ['Which', 'car', 'am', 'I', 'gonna', 'take', 'today', 'kaya'], ['Dont', 'make', 'tusok', 'sa', 'fishball', 'muna', 'its', 'not', 'lutong', 'yet'], ['Kuya', 'magkano', 'po', 'yung', 'neon', 'balls'], ['Pweds', 'ka', 'ba', 'later'], ['Ugh', 'theres', 'no', 'parking', 'space', 'pa', 'Eh', 'Im', 'late', 'na', 'nga'], ['Its', 'like', 'super', 'intense', 'talaga', 'As', 'in', 'grabe'], ['Ill', 'make', 'paalam', 'pa', 'You', 'know', 'naman', 'my', 'dad', 'is', 'strict', 'eh'], ['Youre', 'like', 'so', 'tagal', 'ha'], ['Make', 'it', 'fast', 'lang', 'ha'], ['Whats', 'wrong', 'with', 'being', 'conyo', 'ba']]\n"
     ]
    }
   ],
   "source": [
    "with open('./data/ateneo.txt', 'r') as fAteneo:\n",
    "    ateneo = [[re.sub(\"[^a-zA-Z]+\", \"\", word) for word in sentence.rstrip().split(\" \")] \n",
    "              for sentence in fAteneo.readlines()]\n",
    "    \n",
    "    print(ateneo)\n",
    "#     with open('./data/tl-en.txt', 'r') as fTlEn:\n",
    "        \n"
   ]
  },
  {
   "cell_type": "code",
   "execution_count": null,
   "metadata": {},
   "outputs": [],
   "source": []
  }
 ],
 "metadata": {
  "kernelspec": {
   "display_name": "Python 3",
   "language": "python",
   "name": "python3"
  },
  "language_info": {
   "codemirror_mode": {
    "name": "ipython",
    "version": 3
   },
   "file_extension": ".py",
   "mimetype": "text/x-python",
   "name": "python",
   "nbconvert_exporter": "python",
   "pygments_lexer": "ipython3",
   "version": "3.8.1"
  }
 },
 "nbformat": 4,
 "nbformat_minor": 4
}
